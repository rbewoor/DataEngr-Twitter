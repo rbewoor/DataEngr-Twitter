{
 "cells": [
  {
   "cell_type": "code",
   "execution_count": 1,
   "metadata": {},
   "outputs": [
    {
     "name": "stdout",
     "output_type": "stream",
     "text": [
      "\n",
      "Start time of program:  Fri Dec 28 02:26:55 2018\n",
      "\n",
      "Done processing at:  Fri Dec 28 02:56:55 2018\n"
     ]
    }
   ],
   "source": [
    "# -*- coding: utf-8 -*-\n",
    "\"\"\"\n",
    "Created on Thu Dec 20 19:42:25 2018\n",
    "\n",
    "Enter the credentials of your twitter.\n",
    "No filter and pull whatever twitter has. Program runs for specified no. of seconds\n",
    "\n",
    "@author: RB\n",
    "\"\"\"\n",
    "\n",
    "from tweepy.streaming import StreamListener\n",
    "from tweepy import OAuthHandler\n",
    "from tweepy import Stream\n",
    "import time\n",
    "from kafka import SimpleProducer, KafkaClient\n",
    "from datetime import datetime\n",
    "\n",
    "access_token = \"1071412304431013888-NH8w999aFjVw7YBg4KxXPlJdYQYTur\"\n",
    "access_token_secret =  \"Fpf4IIAqapFN1fbBsBBvCfVtmPlmolgj4SYeDBQ5cGBga\"\n",
    "consumer_key =  \"3A9Oe0fd6LcbK4ppeLg7CDhYI\"\n",
    "consumer_secret =  \"fmmibjMzRFowouHCNibha4K6WE1N4Va0ASXJhHvrEejG07BBHJ\"\n",
    "\n",
    "topicName = 'TwitterTopicMain1'\n",
    "\n",
    "print('\\nStart time of program: ', datetime.now().strftime(\"%c\"))\n",
    "\n",
    "class StdOutListener(StreamListener):\n",
    "    def on_data(self, data):\n",
    "        if (time.time() - self.start_time) < self.limit:\n",
    "            producer.send_messages(topicName, data.encode('utf-8'))\n",
    "#            print (data)\n",
    "            return True\n",
    "        else:\n",
    "            print\n",
    "            return False\n",
    "        \n",
    "    def on_error(self, status):\n",
    "        print (status)\n",
    "    \n",
    "    def __init__(self, time_limit=1800):     # SPECIFY THE TIME IN SECONDS\n",
    "        self.start_time = time.time()\n",
    "        self.limit = time_limit\n",
    "        super(StdOutListener, self).__init__()\n",
    "\n",
    "kafka = KafkaClient(\"localhost:9092\")\n",
    "producer = SimpleProducer(kafka)\n",
    "l = StdOutListener()\n",
    "auth = OAuthHandler(consumer_key, consumer_secret)\n",
    "auth.set_access_token(access_token, access_token_secret)\n",
    "stream = Stream(auth, l)\n",
    "stream.sample()\n",
    "\n",
    "print('\\nDone processing at: ', datetime.now().strftime(\"%c\"))"
   ]
  },
  {
   "cell_type": "code",
   "execution_count": null,
   "metadata": {},
   "outputs": [],
   "source": []
  }
 ],
 "metadata": {
  "kernelspec": {
   "display_name": "Python 3",
   "language": "python",
   "name": "python3"
  },
  "language_info": {
   "codemirror_mode": {
    "name": "ipython",
    "version": 3
   },
   "file_extension": ".py",
   "mimetype": "text/x-python",
   "name": "python",
   "nbconvert_exporter": "python",
   "pygments_lexer": "ipython3",
   "version": "3.7.0"
  }
 },
 "nbformat": 4,
 "nbformat_minor": 2
}
